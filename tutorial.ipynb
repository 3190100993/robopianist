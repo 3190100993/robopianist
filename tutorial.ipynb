{
 "cells": [
  {
   "cell_type": "markdown",
   "metadata": {
    "id": "Ig6POpnWMvC7"
   },
   "source": [
    "# **`robopianist` tutorial**\n",
    "\n",
    "[![Open In Colab](https://colab.research.google.com/assets/colab-badge.svg)](https://colab.research.google.com/github/google-research/robopianist/blob/main/tutorial.ipynb)\n",
    "\n",
    "\n",
    "\n",
    "\n",
    "\n",
    "\n"
   ]
  },
  {
   "cell_type": "markdown",
   "metadata": {
    "id": "NAa4EzGIMymK"
   },
   "source": [
    "> <p><small><small>Copyright 2023 The RoboPianist Authors.</small></p>\n",
    "> <p><small><small>Licensed under the Apache License, Version 2.0 (the \"License\"); you may not use this file except in compliance with the License. You may obtain a copy of the License at <a href=\"http://www.apache.org/licenses/LICENSE-2.0\">http://www.apache.org/licenses/LICENSE-2.0</a>.</small></small></p>\n",
    "> <p><small><small>Unless required by applicable law or agreed to in writing, software distributed under the License is distributed on an \"AS IS\" BASIS, WITHOUT WARRANTIES OR CONDITIONS OF ANY KIND, either express or implied. See the License for the specific language governing permissions and limitations under the License.</small></small></p>"
   ]
  },
  {
   "cell_type": "markdown",
   "metadata": {
    "id": "ai0FRnxDM8HP"
   },
   "source": [
    "# Installing `robopianist` on Colab"
   ]
  },
  {
   "cell_type": "code",
   "execution_count": 1,
   "metadata": {
    "cellView": "form",
    "id": "-F6gUpNcM4BE"
   },
   "outputs": [
    {
     "name": "stdout",
     "output_type": "stream",
     "text": [
      "Tue Jun 17 10:54:31 2025       \n",
      "+-----------------------------------------------------------------------------------------+\n",
      "| NVIDIA-SMI 570.133.07             Driver Version: 570.133.07     CUDA Version: 12.8     |\n",
      "|-----------------------------------------+------------------------+----------------------+\n",
      "| GPU  Name                 Persistence-M | Bus-Id          Disp.A | Volatile Uncorr. ECC |\n",
      "| Fan  Temp   Perf          Pwr:Usage/Cap |           Memory-Usage | GPU-Util  Compute M. |\n",
      "|                                         |                        |               MIG M. |\n",
      "|=========================================+========================+======================|\n",
      "|   0  NVIDIA GeForce RTX 4090 D      Off |   00000000:01:00.0  On |                  Off |\n",
      "|  0%   48C    P8             31W /  425W |     606MiB /  24564MiB |     35%      Default |\n",
      "|                                         |                        |                  N/A |\n",
      "+-----------------------------------------+------------------------+----------------------+\n",
      "                                                                                         \n",
      "+-----------------------------------------------------------------------------------------+\n",
      "| Processes:                                                                              |\n",
      "|  GPU   GI   CI              PID   Type   Process name                        GPU Memory |\n",
      "|        ID   ID                                                               Usage      |\n",
      "|=========================================================================================|\n",
      "|    0   N/A  N/A            1110      G   /usr/lib/xorg/Xorg                       68MiB |\n",
      "|    0   N/A  N/A         1320279      G   /usr/lib/xorg/Xorg                      521MiB |\n",
      "+-----------------------------------------------------------------------------------------+\n",
      "Error installing dependencies: Command 'bash <(curl -s https://raw.githubusercontent.com/google-research/robopianist/main/scripts/install_deps.sh) --no-soundfonts --no-menagerie' returned non-zero exit status 2.\n",
      "Installing robopianist...\n"
     ]
    },
    {
     "name": "stderr",
     "output_type": "stream",
     "text": [
      "/bin/sh: 1: Syntax error: \"(\" unexpected\n"
     ]
    },
    {
     "name": "stdout",
     "output_type": "stream",
     "text": [
      "Installed \n"
     ]
    }
   ],
   "source": [
    "# @title Run to install robopianist\n",
    "from IPython.display import clear_output\n",
    "import subprocess\n",
    "\n",
    "if subprocess.run(\"nvidia-smi\").returncode:\n",
    "    raise RuntimeError(\n",
    "        \"Cannot communicate with GPU. \"\n",
    "        \"Make sure you are using a GPU Colab runtime. \"\n",
    "        \"Go to the Runtime menu and select Choose runtime type.\"\n",
    "    )\n",
    "\n",
    "# Install dependencies.\n",
    "# %shell bash <(curl -s https://raw.githubusercontent.com/google-research/robopianist/main/scripts/install_deps.sh) --no-soundfonts --no-menagerie\n",
    "try:\n",
    "    subprocess.run(\"bash <(curl -s https://raw.githubusercontent.com/google-research/robopianist/main/scripts/install_deps.sh) --no-soundfonts --no-menagerie\", shell=True, check=True)\n",
    "except subprocess.CalledProcessError as e:\n",
    "    print(f\"Error installing dependencies: {e}\")\n",
    "\n",
    "\n",
    "print(\"Installing robopianist...\")\n",
    "# %pip install -q robopianist>=1.0.6\n",
    "try:\n",
    "    subprocess.run(\"pip install -q robopianist>=1.0.6\", shell=True, check=True)\n",
    "except subprocess.CalledProcessError as e:\n",
    "    print(f\"Error installing robopianist: {e}\")\n",
    "\n",
    "# %env MUJOCO_GL=egl\n",
    "# 设置环境变量\n",
    "import os\n",
    "os.environ[\"MUJOCO_GL\"] = \"glfw\"\n",
    "\n",
    "# clear_output()\n",
    "# %shell echo Installed $(robopianist --version)\n",
    "# 显示安装的版本\n",
    "try:\n",
    "    result = subprocess.run(\"robopianist --version\", shell=True, capture_output=True, text=True)\n",
    "    print(f\"Installed {result.stdout.strip()}\")\n",
    "except subprocess.CalledProcessError as e:\n",
    "    print(f\"Error getting robopianist version: {e}\")"
   ]
  },
  {
   "cell_type": "code",
   "execution_count": 4,
   "metadata": {
    "cellView": "form",
    "id": "vpYvIKL3Su0x"
   },
   "outputs": [
    {
     "ename": "OSError",
     "evalue": "/lib/x86_64-linux-gnu/libwayland-client.so.0: undefined symbol: ffi_type_uint32, version LIBFFI_BASE_7.0",
     "output_type": "error",
     "traceback": [
      "\u001b[0;31m---------------------------------------------------------------------------\u001b[0m",
      "\u001b[0;31mOSError\u001b[0m                                   Traceback (most recent call last)",
      "Cell \u001b[0;32mIn[4], line 5\u001b[0m\n\u001b[1;32m      3\u001b[0m \u001b[38;5;28;01mfrom\u001b[39;00m\u001b[38;5;250m \u001b[39m\u001b[38;5;21;01mbase64\u001b[39;00m\u001b[38;5;250m \u001b[39m\u001b[38;5;28;01mimport\u001b[39;00m b64encode\n\u001b[1;32m      4\u001b[0m \u001b[38;5;28;01mimport\u001b[39;00m\u001b[38;5;250m \u001b[39m\u001b[38;5;21;01mnumpy\u001b[39;00m\u001b[38;5;250m \u001b[39m\u001b[38;5;28;01mas\u001b[39;00m\u001b[38;5;250m \u001b[39m\u001b[38;5;21;01mnp\u001b[39;00m\n\u001b[0;32m----> 5\u001b[0m \u001b[38;5;28;01mfrom\u001b[39;00m\u001b[38;5;250m \u001b[39m\u001b[38;5;21;01mrobopianist\u001b[39;00m\u001b[38;5;21;01m.\u001b[39;00m\u001b[38;5;21;01msuite\u001b[39;00m\u001b[38;5;21;01m.\u001b[39;00m\u001b[38;5;21;01mtasks\u001b[39;00m\u001b[38;5;250m \u001b[39m\u001b[38;5;28;01mimport\u001b[39;00m self_actuated_piano\n\u001b[1;32m      6\u001b[0m \u001b[38;5;28;01mfrom\u001b[39;00m\u001b[38;5;250m \u001b[39m\u001b[38;5;21;01mrobopianist\u001b[39;00m\u001b[38;5;21;01m.\u001b[39;00m\u001b[38;5;21;01msuite\u001b[39;00m\u001b[38;5;21;01m.\u001b[39;00m\u001b[38;5;21;01mtasks\u001b[39;00m\u001b[38;5;250m \u001b[39m\u001b[38;5;28;01mimport\u001b[39;00m piano_with_shadow_hands\n\u001b[1;32m      7\u001b[0m \u001b[38;5;28;01mfrom\u001b[39;00m\u001b[38;5;250m \u001b[39m\u001b[38;5;21;01mdm_env_wrappers\u001b[39;00m\u001b[38;5;250m \u001b[39m\u001b[38;5;28;01mimport\u001b[39;00m CanonicalSpecWrapper\n",
      "File \u001b[0;32m~/robopianist/robopianist/suite/__init__.py:23\u001b[0m\n\u001b[1;32m     20\u001b[0m \u001b[38;5;28;01mfrom\u001b[39;00m\u001b[38;5;250m \u001b[39m\u001b[38;5;21;01mdm_control\u001b[39;00m\u001b[38;5;250m \u001b[39m\u001b[38;5;28;01mimport\u001b[39;00m composer\n\u001b[1;32m     21\u001b[0m \u001b[38;5;28;01mfrom\u001b[39;00m\u001b[38;5;250m \u001b[39m\u001b[38;5;21;01mmujoco_utils\u001b[39;00m\u001b[38;5;250m \u001b[39m\u001b[38;5;28;01mimport\u001b[39;00m composer_utils\n\u001b[0;32m---> 23\u001b[0m \u001b[38;5;28;01mfrom\u001b[39;00m\u001b[38;5;250m \u001b[39m\u001b[38;5;21;01mrobopianist\u001b[39;00m\u001b[38;5;250m \u001b[39m\u001b[38;5;28;01mimport\u001b[39;00m music\n\u001b[1;32m     24\u001b[0m \u001b[38;5;28;01mfrom\u001b[39;00m\u001b[38;5;250m \u001b[39m\u001b[38;5;21;01mrobopianist\u001b[39;00m\u001b[38;5;21;01m.\u001b[39;00m\u001b[38;5;21;01msuite\u001b[39;00m\u001b[38;5;21;01m.\u001b[39;00m\u001b[38;5;21;01mtasks\u001b[39;00m\u001b[38;5;250m \u001b[39m\u001b[38;5;28;01mimport\u001b[39;00m piano_with_shadow_hands\n\u001b[1;32m     26\u001b[0m \u001b[38;5;66;03m# RoboPianist-repertoire-150.\u001b[39;00m\n",
      "File \u001b[0;32m~/robopianist/robopianist/music/__init__.py:21\u001b[0m\n\u001b[1;32m     18\u001b[0m \u001b[38;5;28;01mfrom\u001b[39;00m\u001b[38;5;250m \u001b[39m\u001b[38;5;21;01mtyping\u001b[39;00m\u001b[38;5;250m \u001b[39m\u001b[38;5;28;01mimport\u001b[39;00m Union\n\u001b[1;32m     20\u001b[0m \u001b[38;5;28;01mfrom\u001b[39;00m\u001b[38;5;250m \u001b[39m\u001b[38;5;21;01mrobopianist\u001b[39;00m\u001b[38;5;250m \u001b[39m\u001b[38;5;28;01mimport\u001b[39;00m _PROJECT_ROOT\n\u001b[0;32m---> 21\u001b[0m \u001b[38;5;28;01mfrom\u001b[39;00m\u001b[38;5;250m \u001b[39m\u001b[38;5;21;01mrobopianist\u001b[39;00m\u001b[38;5;21;01m.\u001b[39;00m\u001b[38;5;21;01mmusic\u001b[39;00m\u001b[38;5;250m \u001b[39m\u001b[38;5;28;01mimport\u001b[39;00m library, midi_file\n\u001b[1;32m     24\u001b[0m \u001b[38;5;28;01mdef\u001b[39;00m\u001b[38;5;250m \u001b[39m\u001b[38;5;21m_camel_case\u001b[39m(name: \u001b[38;5;28mstr\u001b[39m) \u001b[38;5;241m-\u001b[39m\u001b[38;5;241m>\u001b[39m \u001b[38;5;28mstr\u001b[39m:\n\u001b[1;32m     25\u001b[0m     new_name \u001b[38;5;241m=\u001b[39m name\u001b[38;5;241m.\u001b[39mreplace(\u001b[38;5;124m\"\u001b[39m\u001b[38;5;124m'\u001b[39m\u001b[38;5;124m\"\u001b[39m, \u001b[38;5;124m\"\u001b[39m\u001b[38;5;124m\"\u001b[39m)  \u001b[38;5;66;03m# Remove apostrophes.\u001b[39;00m\n",
      "File \u001b[0;32m~/robopianist/robopianist/music/library.py:22\u001b[0m\n\u001b[1;32m     18\u001b[0m \u001b[38;5;28;01mfrom\u001b[39;00m\u001b[38;5;250m \u001b[39m\u001b[38;5;21;01mtyping\u001b[39;00m\u001b[38;5;250m \u001b[39m\u001b[38;5;28;01mimport\u001b[39;00m Callable, Dict\n\u001b[1;32m     20\u001b[0m \u001b[38;5;28;01mfrom\u001b[39;00m\u001b[38;5;250m \u001b[39m\u001b[38;5;21;01mnote_seq\u001b[39;00m\u001b[38;5;21;01m.\u001b[39;00m\u001b[38;5;21;01mprotobuf\u001b[39;00m\u001b[38;5;250m \u001b[39m\u001b[38;5;28;01mimport\u001b[39;00m music_pb2\n\u001b[0;32m---> 22\u001b[0m \u001b[38;5;28;01mfrom\u001b[39;00m\u001b[38;5;250m \u001b[39m\u001b[38;5;21;01mrobopianist\u001b[39;00m\u001b[38;5;21;01m.\u001b[39;00m\u001b[38;5;21;01mmusic\u001b[39;00m\u001b[38;5;250m \u001b[39m\u001b[38;5;28;01mimport\u001b[39;00m midi_file\n\u001b[1;32m     24\u001b[0m _HERE \u001b[38;5;241m=\u001b[39m Path(\u001b[38;5;18m__file__\u001b[39m)\u001b[38;5;241m.\u001b[39mparent\n\u001b[1;32m     25\u001b[0m _DATA_PATH \u001b[38;5;241m=\u001b[39m _HERE \u001b[38;5;241m/\u001b[39m \u001b[38;5;124m\"\u001b[39m\u001b[38;5;124mdata\u001b[39m\u001b[38;5;124m\"\u001b[39m\n",
      "File \u001b[0;32m~/robopianist/robopianist/music/midi_file.py:30\u001b[0m\n\u001b[1;32m     27\u001b[0m \u001b[38;5;28;01mfrom\u001b[39;00m\u001b[38;5;250m \u001b[39m\u001b[38;5;21;01mtyping\u001b[39;00m\u001b[38;5;250m \u001b[39m\u001b[38;5;28;01mimport\u001b[39;00m List, Tuple, Union\n\u001b[1;32m     29\u001b[0m \u001b[38;5;28;01mimport\u001b[39;00m\u001b[38;5;250m \u001b[39m\u001b[38;5;21;01mnumpy\u001b[39;00m\u001b[38;5;250m \u001b[39m\u001b[38;5;28;01mas\u001b[39;00m\u001b[38;5;250m \u001b[39m\u001b[38;5;21;01mnp\u001b[39;00m\n\u001b[0;32m---> 30\u001b[0m \u001b[38;5;28;01mfrom\u001b[39;00m\u001b[38;5;250m \u001b[39m\u001b[38;5;21;01mnote_seq\u001b[39;00m\u001b[38;5;250m \u001b[39m\u001b[38;5;28;01mimport\u001b[39;00m NoteSequence, midi_io, midi_synth, music_pb2, sequences_lib\n\u001b[1;32m     31\u001b[0m \u001b[38;5;28;01mfrom\u001b[39;00m\u001b[38;5;250m \u001b[39m\u001b[38;5;21;01mnote_seq\u001b[39;00m\u001b[38;5;250m \u001b[39m\u001b[38;5;28;01mimport\u001b[39;00m constants \u001b[38;5;28;01mas\u001b[39;00m ns_constants\n\u001b[1;32m     33\u001b[0m \u001b[38;5;28;01mfrom\u001b[39;00m\u001b[38;5;250m \u001b[39m\u001b[38;5;21;01mrobopianist\u001b[39;00m\u001b[38;5;250m \u001b[39m\u001b[38;5;28;01mimport\u001b[39;00m SF2_PATH\n",
      "File \u001b[0;32m~/miniconda3/envs/pianist/lib/python3.10/site-packages/note_seq/__init__.py:22\u001b[0m\n\u001b[1;32m     18\u001b[0m \u001b[38;5;28;01mfrom\u001b[39;00m\u001b[38;5;250m \u001b[39m\u001b[38;5;21;01mnote_seq\u001b[39;00m\u001b[38;5;21;01m.\u001b[39;00m\u001b[38;5;21;01mabc_parser\u001b[39;00m\u001b[38;5;250m \u001b[39m\u001b[38;5;28;01mimport\u001b[39;00m parse_abc_tunebook_file\n\u001b[1;32m     20\u001b[0m \u001b[38;5;28;01mimport\u001b[39;00m\u001b[38;5;250m \u001b[39m\u001b[38;5;21;01mnote_seq\u001b[39;00m\u001b[38;5;21;01m.\u001b[39;00m\u001b[38;5;21;01maudio_io\u001b[39;00m\n\u001b[0;32m---> 22\u001b[0m \u001b[38;5;28;01mfrom\u001b[39;00m\u001b[38;5;250m \u001b[39m\u001b[38;5;21;01mnote_seq\u001b[39;00m\u001b[38;5;21;01m.\u001b[39;00m\u001b[38;5;21;01mchord_inference\u001b[39;00m\u001b[38;5;250m \u001b[39m\u001b[38;5;28;01mimport\u001b[39;00m ChordInferenceError\n\u001b[1;32m     23\u001b[0m \u001b[38;5;28;01mfrom\u001b[39;00m\u001b[38;5;250m \u001b[39m\u001b[38;5;21;01mnote_seq\u001b[39;00m\u001b[38;5;21;01m.\u001b[39;00m\u001b[38;5;21;01mchord_inference\u001b[39;00m\u001b[38;5;250m \u001b[39m\u001b[38;5;28;01mimport\u001b[39;00m infer_chords_for_sequence\n\u001b[1;32m     25\u001b[0m \u001b[38;5;28;01mfrom\u001b[39;00m\u001b[38;5;250m \u001b[39m\u001b[38;5;21;01mnote_seq\u001b[39;00m\u001b[38;5;21;01m.\u001b[39;00m\u001b[38;5;21;01mchord_symbols_lib\u001b[39;00m\u001b[38;5;250m \u001b[39m\u001b[38;5;28;01mimport\u001b[39;00m chord_symbol_bass\n",
      "File \u001b[0;32m~/miniconda3/envs/pianist/lib/python3.10/site-packages/note_seq/chord_inference.py:23\u001b[0m\n\u001b[1;32m     21\u001b[0m \u001b[38;5;28;01mfrom\u001b[39;00m\u001b[38;5;250m \u001b[39m\u001b[38;5;21;01mabsl\u001b[39;00m\u001b[38;5;250m \u001b[39m\u001b[38;5;28;01mimport\u001b[39;00m logging\n\u001b[1;32m     22\u001b[0m \u001b[38;5;28;01mfrom\u001b[39;00m\u001b[38;5;250m \u001b[39m\u001b[38;5;21;01mnote_seq\u001b[39;00m\u001b[38;5;250m \u001b[39m\u001b[38;5;28;01mimport\u001b[39;00m constants\n\u001b[0;32m---> 23\u001b[0m \u001b[38;5;28;01mfrom\u001b[39;00m\u001b[38;5;250m \u001b[39m\u001b[38;5;21;01mnote_seq\u001b[39;00m\u001b[38;5;250m \u001b[39m\u001b[38;5;28;01mimport\u001b[39;00m sequences_lib\n\u001b[1;32m     24\u001b[0m \u001b[38;5;28;01mfrom\u001b[39;00m\u001b[38;5;250m \u001b[39m\u001b[38;5;21;01mnote_seq\u001b[39;00m\u001b[38;5;21;01m.\u001b[39;00m\u001b[38;5;21;01mprotobuf\u001b[39;00m\u001b[38;5;250m \u001b[39m\u001b[38;5;28;01mimport\u001b[39;00m music_pb2\n\u001b[1;32m     25\u001b[0m \u001b[38;5;28;01mimport\u001b[39;00m\u001b[38;5;250m \u001b[39m\u001b[38;5;21;01mnumpy\u001b[39;00m\u001b[38;5;250m \u001b[39m\u001b[38;5;28;01mas\u001b[39;00m\u001b[38;5;250m \u001b[39m\u001b[38;5;21;01mnp\u001b[39;00m\n",
      "File \u001b[0;32m~/miniconda3/envs/pianist/lib/python3.10/site-packages/note_seq/sequences_lib.py:29\u001b[0m\n\u001b[1;32m     27\u001b[0m \u001b[38;5;28;01mfrom\u001b[39;00m\u001b[38;5;250m \u001b[39m\u001b[38;5;21;01mnote_seq\u001b[39;00m\u001b[38;5;21;01m.\u001b[39;00m\u001b[38;5;21;01mprotobuf\u001b[39;00m\u001b[38;5;250m \u001b[39m\u001b[38;5;28;01mimport\u001b[39;00m music_pb2\n\u001b[1;32m     28\u001b[0m \u001b[38;5;28;01mimport\u001b[39;00m\u001b[38;5;250m \u001b[39m\u001b[38;5;21;01mnumpy\u001b[39;00m\u001b[38;5;250m \u001b[39m\u001b[38;5;28;01mas\u001b[39;00m\u001b[38;5;250m \u001b[39m\u001b[38;5;21;01mnp\u001b[39;00m\n\u001b[0;32m---> 29\u001b[0m \u001b[38;5;28;01mimport\u001b[39;00m\u001b[38;5;250m \u001b[39m\u001b[38;5;21;01mpretty_midi\u001b[39;00m\n\u001b[1;32m     31\u001b[0m \u001b[38;5;66;03m# Set the quantization cutoff.\u001b[39;00m\n\u001b[1;32m     32\u001b[0m \u001b[38;5;66;03m# Note events before this cutoff are rounded down to nearest step. Notes\u001b[39;00m\n\u001b[1;32m     33\u001b[0m \u001b[38;5;66;03m# above this cutoff are rounded up to nearest step. The cutoff is given as a\u001b[39;00m\n\u001b[0;32m   (...)\u001b[0m\n\u001b[1;32m     38\u001b[0m \u001b[38;5;66;03m# A number close to 1.0 gives less wiggle room for notes that start early,\u001b[39;00m\n\u001b[1;32m     39\u001b[0m \u001b[38;5;66;03m# and they will be snapped to the previous step.\u001b[39;00m\n\u001b[1;32m     40\u001b[0m QUANTIZE_CUTOFF \u001b[38;5;241m=\u001b[39m \u001b[38;5;241m0.5\u001b[39m\n",
      "File \u001b[0;32m~/miniconda3/envs/pianist/lib/python3.10/site-packages/pretty_midi/__init__.py:145\u001b[0m\n\u001b[1;32m      1\u001b[0m \u001b[38;5;124;03m\"\"\"\u001b[39;00m\n\u001b[1;32m      2\u001b[0m \u001b[38;5;124;03m``pretty_midi`` contains utility function/classes for handling MIDI data,\u001b[39;00m\n\u001b[1;32m      3\u001b[0m \u001b[38;5;124;03mso that it's in a format from which it is easy to modify and extract\u001b[39;00m\n\u001b[0;32m   (...)\u001b[0m\n\u001b[1;32m    143\u001b[0m \u001b[38;5;124;03m.. autofunction:: semitones_to_pitch_bend\u001b[39;00m\n\u001b[1;32m    144\u001b[0m \u001b[38;5;124;03m\"\"\"\u001b[39;00m\n\u001b[0;32m--> 145\u001b[0m \u001b[38;5;28;01mfrom\u001b[39;00m\u001b[38;5;250m \u001b[39m\u001b[38;5;21;01m.\u001b[39;00m\u001b[38;5;21;01mpretty_midi\u001b[39;00m\u001b[38;5;250m \u001b[39m\u001b[38;5;28;01mimport\u001b[39;00m \u001b[38;5;241m*\u001b[39m\n\u001b[1;32m    146\u001b[0m \u001b[38;5;28;01mfrom\u001b[39;00m\u001b[38;5;250m \u001b[39m\u001b[38;5;21;01m.\u001b[39;00m\u001b[38;5;21;01minstrument\u001b[39;00m\u001b[38;5;250m \u001b[39m\u001b[38;5;28;01mimport\u001b[39;00m \u001b[38;5;241m*\u001b[39m\n\u001b[1;32m    147\u001b[0m \u001b[38;5;28;01mfrom\u001b[39;00m\u001b[38;5;250m \u001b[39m\u001b[38;5;21;01m.\u001b[39;00m\u001b[38;5;21;01mcontainers\u001b[39;00m\u001b[38;5;250m \u001b[39m\u001b[38;5;28;01mimport\u001b[39;00m \u001b[38;5;241m*\u001b[39m\n",
      "File \u001b[0;32m~/miniconda3/envs/pianist/lib/python3.10/site-packages/pretty_midi/pretty_midi.py:17\u001b[0m\n\u001b[1;32m     14\u001b[0m \u001b[38;5;28;01mimport\u001b[39;00m\u001b[38;5;250m \u001b[39m\u001b[38;5;21;01msix\u001b[39;00m\n\u001b[1;32m     15\u001b[0m \u001b[38;5;28;01mfrom\u001b[39;00m\u001b[38;5;250m \u001b[39m\u001b[38;5;21;01mheapq\u001b[39;00m\u001b[38;5;250m \u001b[39m\u001b[38;5;28;01mimport\u001b[39;00m merge\n\u001b[0;32m---> 17\u001b[0m \u001b[38;5;28;01mfrom\u001b[39;00m\u001b[38;5;250m \u001b[39m\u001b[38;5;21;01m.\u001b[39;00m\u001b[38;5;21;01minstrument\u001b[39;00m\u001b[38;5;250m \u001b[39m\u001b[38;5;28;01mimport\u001b[39;00m Instrument\n\u001b[1;32m     18\u001b[0m \u001b[38;5;28;01mfrom\u001b[39;00m\u001b[38;5;250m \u001b[39m\u001b[38;5;21;01m.\u001b[39;00m\u001b[38;5;21;01mcontainers\u001b[39;00m\u001b[38;5;250m \u001b[39m\u001b[38;5;28;01mimport\u001b[39;00m (KeySignature, TimeSignature, Lyric, Note,\n\u001b[1;32m     19\u001b[0m                          PitchBend, ControlChange, Text)\n\u001b[1;32m     20\u001b[0m \u001b[38;5;28;01mfrom\u001b[39;00m\u001b[38;5;250m \u001b[39m\u001b[38;5;21;01m.\u001b[39;00m\u001b[38;5;21;01mutilities\u001b[39;00m\u001b[38;5;250m \u001b[39m\u001b[38;5;28;01mimport\u001b[39;00m (key_name_to_key_number, qpm_to_bpm)\n",
      "File \u001b[0;32m~/miniconda3/envs/pianist/lib/python3.10/site-packages/pretty_midi/instrument.py:6\u001b[0m\n\u001b[1;32m      4\u001b[0m \u001b[38;5;28;01mimport\u001b[39;00m\u001b[38;5;250m \u001b[39m\u001b[38;5;21;01mnumpy\u001b[39;00m\u001b[38;5;250m \u001b[39m\u001b[38;5;28;01mas\u001b[39;00m\u001b[38;5;250m \u001b[39m\u001b[38;5;21;01mnp\u001b[39;00m\n\u001b[1;32m      5\u001b[0m \u001b[38;5;28;01mtry\u001b[39;00m:\n\u001b[0;32m----> 6\u001b[0m     \u001b[38;5;28;01mimport\u001b[39;00m\u001b[38;5;250m \u001b[39m\u001b[38;5;21;01mfluidsynth\u001b[39;00m\n\u001b[1;32m      7\u001b[0m     _HAS_FLUIDSYNTH \u001b[38;5;241m=\u001b[39m \u001b[38;5;28;01mTrue\u001b[39;00m\n\u001b[1;32m      8\u001b[0m \u001b[38;5;28;01mexcept\u001b[39;00m \u001b[38;5;167;01mImportError\u001b[39;00m:\n",
      "File \u001b[0;32m~/miniconda3/envs/pianist/lib/python3.10/site-packages/fluidsynth.py:86\u001b[0m\n\u001b[1;32m     82\u001b[0m lib \u001b[38;5;241m=\u001b[39m load_libfluidsynth()\n\u001b[1;32m     84\u001b[0m \u001b[38;5;66;03m# Dynamically link the FluidSynth library\u001b[39;00m\n\u001b[1;32m     85\u001b[0m \u001b[38;5;66;03m# Architecture (32-/64-bit) must match your Python version\u001b[39;00m\n\u001b[0;32m---> 86\u001b[0m _fl \u001b[38;5;241m=\u001b[39m \u001b[43mCDLL\u001b[49m\u001b[43m(\u001b[49m\u001b[43mlib\u001b[49m\u001b[43m)\u001b[49m\n\u001b[1;32m     88\u001b[0m \u001b[38;5;66;03m# Helper function for declaring function prototypes\u001b[39;00m\n\u001b[1;32m     89\u001b[0m \u001b[38;5;28;01mdef\u001b[39;00m\u001b[38;5;250m \u001b[39m\u001b[38;5;21mcfunc\u001b[39m(name, result, \u001b[38;5;241m*\u001b[39margs):\n",
      "File \u001b[0;32m~/miniconda3/envs/pianist/lib/python3.10/ctypes/__init__.py:374\u001b[0m, in \u001b[0;36mCDLL.__init__\u001b[0;34m(self, name, mode, handle, use_errno, use_last_error, winmode)\u001b[0m\n\u001b[1;32m    371\u001b[0m \u001b[38;5;28mself\u001b[39m\u001b[38;5;241m.\u001b[39m_FuncPtr \u001b[38;5;241m=\u001b[39m _FuncPtr\n\u001b[1;32m    373\u001b[0m \u001b[38;5;28;01mif\u001b[39;00m handle \u001b[38;5;129;01mis\u001b[39;00m \u001b[38;5;28;01mNone\u001b[39;00m:\n\u001b[0;32m--> 374\u001b[0m     \u001b[38;5;28mself\u001b[39m\u001b[38;5;241m.\u001b[39m_handle \u001b[38;5;241m=\u001b[39m \u001b[43m_dlopen\u001b[49m\u001b[43m(\u001b[49m\u001b[38;5;28;43mself\u001b[39;49m\u001b[38;5;241;43m.\u001b[39;49m\u001b[43m_name\u001b[49m\u001b[43m,\u001b[49m\u001b[43m \u001b[49m\u001b[43mmode\u001b[49m\u001b[43m)\u001b[49m\n\u001b[1;32m    375\u001b[0m \u001b[38;5;28;01melse\u001b[39;00m:\n\u001b[1;32m    376\u001b[0m     \u001b[38;5;28mself\u001b[39m\u001b[38;5;241m.\u001b[39m_handle \u001b[38;5;241m=\u001b[39m handle\n",
      "\u001b[0;31mOSError\u001b[0m: /lib/x86_64-linux-gnu/libwayland-client.so.0: undefined symbol: ffi_type_uint32, version LIBFFI_BASE_7.0"
     ]
    }
   ],
   "source": [
    "# @title All imports required for this tutorial\n",
    "from IPython.display import HTML\n",
    "from base64 import b64encode\n",
    "import numpy as np\n",
    "from robopianist.suite.tasks import self_actuated_piano\n",
    "from robopianist.suite.tasks import piano_with_shadow_hands\n",
    "from dm_env_wrappers import CanonicalSpecWrapper\n",
    "from robopianist.wrappers import PianoSoundVideoWrapper\n",
    "from robopianist import music\n",
    "from mujoco_utils import composer_utils\n",
    "import dm_env\n"
   ]
  },
  {
   "cell_type": "code",
   "execution_count": 4,
   "metadata": {
    "cellView": "form",
    "id": "rxep9j1nTDOr"
   },
   "outputs": [],
   "source": [
    "# @title Helper functions\n",
    "\n",
    "\n",
    "# Reference: https://stackoverflow.com/a/60986234.\n",
    "def play_video(filename: str):\n",
    "    mp4 = open(filename, \"rb\").read()\n",
    "    data_url = \"data:video/mp4;base64,\" + b64encode(mp4).decode()\n",
    "\n",
    "    return HTML(\n",
    "        \"\"\"\n",
    "  <video controls>\n",
    "        <source src=\"%s\" type=\"video/mp4\">\n",
    "  </video>\n",
    "  \"\"\"\n",
    "        % data_url\n",
    "    )"
   ]
  },
  {
   "cell_type": "markdown",
   "metadata": {
    "id": "L8gSygrNO9du"
   },
   "source": [
    "# Self-actuated piano task"
   ]
  },
  {
   "cell_type": "code",
   "execution_count": 8,
   "metadata": {
    "id": "3j_CgR-_Qg5q"
   },
   "outputs": [
    {
     "ename": "AttributeError",
     "evalue": "module 'fluidsynth' has no attribute 'Synth'",
     "output_type": "error",
     "traceback": [
      "\u001b[0;31m---------------------------------------------------------------------------\u001b[0m",
      "\u001b[0;31mAttributeError\u001b[0m                            Traceback (most recent call last)",
      "Cell \u001b[0;32mIn[8], line 12\u001b[0m\n\u001b[1;32m      1\u001b[0m task \u001b[38;5;241m=\u001b[39m self_actuated_piano\u001b[38;5;241m.\u001b[39mSelfActuatedPiano(\n\u001b[1;32m      2\u001b[0m     midi\u001b[38;5;241m=\u001b[39mmusic\u001b[38;5;241m.\u001b[39mload(\u001b[38;5;124m\"\u001b[39m\u001b[38;5;124mTwinkleTwinkleRousseau\u001b[39m\u001b[38;5;124m\"\u001b[39m),\n\u001b[1;32m      3\u001b[0m     change_color_on_activation\u001b[38;5;241m=\u001b[39m\u001b[38;5;28;01mTrue\u001b[39;00m,\n\u001b[1;32m      4\u001b[0m     trim_silence\u001b[38;5;241m=\u001b[39m\u001b[38;5;28;01mTrue\u001b[39;00m,\n\u001b[1;32m      5\u001b[0m     control_timestep\u001b[38;5;241m=\u001b[39m\u001b[38;5;241m0.01\u001b[39m,\n\u001b[1;32m      6\u001b[0m )\n\u001b[1;32m      8\u001b[0m env \u001b[38;5;241m=\u001b[39m composer_utils\u001b[38;5;241m.\u001b[39mEnvironment(\n\u001b[1;32m      9\u001b[0m     recompile_physics\u001b[38;5;241m=\u001b[39m\u001b[38;5;28;01mFalse\u001b[39;00m, task\u001b[38;5;241m=\u001b[39mtask, strip_singleton_obs_buffer_dim\u001b[38;5;241m=\u001b[39m\u001b[38;5;28;01mTrue\u001b[39;00m\n\u001b[1;32m     10\u001b[0m )\n\u001b[0;32m---> 12\u001b[0m env \u001b[38;5;241m=\u001b[39m \u001b[43mPianoSoundVideoWrapper\u001b[49m\u001b[43m(\u001b[49m\n\u001b[1;32m     13\u001b[0m \u001b[43m    \u001b[49m\u001b[43menv\u001b[49m\u001b[43m,\u001b[49m\n\u001b[1;32m     14\u001b[0m \u001b[43m    \u001b[49m\u001b[43mrecord_every\u001b[49m\u001b[38;5;241;43m=\u001b[39;49m\u001b[38;5;241;43m1\u001b[39;49m\u001b[43m,\u001b[49m\n\u001b[1;32m     15\u001b[0m \u001b[43m    \u001b[49m\u001b[43mcamera_id\u001b[49m\u001b[38;5;241;43m=\u001b[39;49m\u001b[38;5;124;43m\"\u001b[39;49m\u001b[38;5;124;43mpiano/back\u001b[39;49m\u001b[38;5;124;43m\"\u001b[39;49m\u001b[43m,\u001b[49m\n\u001b[1;32m     16\u001b[0m \u001b[43m    \u001b[49m\u001b[43mrecord_dir\u001b[49m\u001b[38;5;241;43m=\u001b[39;49m\u001b[38;5;124;43m\"\u001b[39;49m\u001b[38;5;124;43m.\u001b[39;49m\u001b[38;5;124;43m\"\u001b[39;49m\u001b[43m,\u001b[49m\n\u001b[1;32m     17\u001b[0m \u001b[43m)\u001b[49m\n",
      "File \u001b[0;32m~/robopianist/robopianist/wrappers/sound.py:49\u001b[0m, in \u001b[0;36mPianoSoundVideoWrapper.__init__\u001b[0;34m(self, environment, sf2_path, sample_rate, **kwargs)\u001b[0m\n\u001b[1;32m     47\u001b[0m \u001b[38;5;28mself\u001b[39m\u001b[38;5;241m.\u001b[39m_midi_module: midi_module\u001b[38;5;241m.\u001b[39mMidiModule \u001b[38;5;241m=\u001b[39m environment\u001b[38;5;241m.\u001b[39mtask\u001b[38;5;241m.\u001b[39mpiano\u001b[38;5;241m.\u001b[39mmidi_module\n\u001b[1;32m     48\u001b[0m \u001b[38;5;28mself\u001b[39m\u001b[38;5;241m.\u001b[39m_sample_rate \u001b[38;5;241m=\u001b[39m sample_rate\n\u001b[0;32m---> 49\u001b[0m \u001b[38;5;28mself\u001b[39m\u001b[38;5;241m.\u001b[39m_synth \u001b[38;5;241m=\u001b[39m \u001b[43msynthesizer\u001b[49m\u001b[38;5;241;43m.\u001b[39;49m\u001b[43mSynthesizer\u001b[49m\u001b[43m(\u001b[49m\u001b[43msf2_path\u001b[49m\u001b[43m,\u001b[49m\u001b[43m \u001b[49m\u001b[43msample_rate\u001b[49m\u001b[43m)\u001b[49m\n",
      "File \u001b[0;32m~/robopianist/robopianist/music/synthesizer.py:55\u001b[0m, in \u001b[0;36mSynthesizer.__init__\u001b[0;34m(self, soundfont_path, sample_rate)\u001b[0m\n\u001b[1;32m     52\u001b[0m \u001b[38;5;28mself\u001b[39m\u001b[38;5;241m.\u001b[39m_sustained: \u001b[38;5;28mbool\u001b[39m \u001b[38;5;241m=\u001b[39m \u001b[38;5;28;01mFalse\u001b[39;00m\n\u001b[1;32m     54\u001b[0m \u001b[38;5;66;03m# Initialize FluidSynth.\u001b[39;00m\n\u001b[0;32m---> 55\u001b[0m \u001b[38;5;28mself\u001b[39m\u001b[38;5;241m.\u001b[39m_synth \u001b[38;5;241m=\u001b[39m \u001b[43mfluidsynth\u001b[49m\u001b[38;5;241;43m.\u001b[39;49m\u001b[43mSynth\u001b[49m(samplerate\u001b[38;5;241m=\u001b[39m\u001b[38;5;28mfloat\u001b[39m(sample_rate))\n\u001b[1;32m     56\u001b[0m soundfont_id \u001b[38;5;241m=\u001b[39m \u001b[38;5;28mself\u001b[39m\u001b[38;5;241m.\u001b[39m_synth\u001b[38;5;241m.\u001b[39msfload(\u001b[38;5;28mstr\u001b[39m(soundfont_path))\n\u001b[1;32m     57\u001b[0m \u001b[38;5;28mself\u001b[39m\u001b[38;5;241m.\u001b[39m_synth\u001b[38;5;241m.\u001b[39mprogram_select(_CHANNEL, soundfont_id, _BANK, _PROGRAM)\n",
      "\u001b[0;31mAttributeError\u001b[0m: module 'fluidsynth' has no attribute 'Synth'"
     ]
    }
   ],
   "source": [
    "task = self_actuated_piano.SelfActuatedPiano(\n",
    "    midi=music.load(\"TwinkleTwinkleRousseau\"),\n",
    "    change_color_on_activation=True,\n",
    "    trim_silence=True,\n",
    "    control_timestep=0.01,\n",
    ")\n",
    "\n",
    "env = composer_utils.Environment(\n",
    "    recompile_physics=False, task=task, strip_singleton_obs_buffer_dim=True\n",
    ")\n",
    "\n",
    "env = PianoSoundVideoWrapper(\n",
    "    env,\n",
    "    record_every=1,\n",
    "    camera_id=\"piano/back\",\n",
    "    record_dir=\".\",\n",
    ")"
   ]
  },
  {
   "cell_type": "code",
   "execution_count": null,
   "metadata": {
    "id": "4owjhVl6QuHh"
   },
   "outputs": [],
   "source": [
    "action_spec = env.action_spec()\n",
    "min_ctrl = action_spec.minimum\n",
    "max_ctrl = action_spec.maximum\n",
    "print(f\"Action dimension: {action_spec.shape}\")"
   ]
  },
  {
   "cell_type": "code",
   "execution_count": null,
   "metadata": {
    "id": "BEELrpGNQwDt"
   },
   "outputs": [],
   "source": [
    "print(\"Observables:\")\n",
    "timestep = env.reset()\n",
    "dim = 0\n",
    "for k, v in timestep.observation.items():\n",
    "    print(f\"\\t{k}: {v.shape} {v.dtype}\")\n",
    "    dim += np.prod(v.shape)\n",
    "print(f\"Observation dimension: {dim}\")"
   ]
  },
  {
   "cell_type": "code",
   "execution_count": null,
   "metadata": {
    "id": "KjhPlbGMQykc"
   },
   "outputs": [],
   "source": [
    "class Oracle:\n",
    "    def __call__(self, timestep: dm_env.TimeStep) -> np.ndarray:\n",
    "        if timestep.reward is not None:\n",
    "            assert timestep.reward == 0\n",
    "        # Only grab the next timestep's goal state.\n",
    "        goal = timestep.observation[\"goal\"][: task.piano.n_keys]\n",
    "        key_idxs = np.flatnonzero(goal)\n",
    "        # For goal keys that should be pressed, set the action to the maximum\n",
    "        # actuator value. For goal keys that should be released, set the action to\n",
    "        # the minimum actuator value.\n",
    "        action = min_ctrl.copy()\n",
    "        action[key_idxs] = max_ctrl[key_idxs]\n",
    "        # Grab the sustain pedal action.\n",
    "        action[-1] = timestep.observation[\"goal\"][-1]\n",
    "        return action"
   ]
  },
  {
   "cell_type": "code",
   "execution_count": null,
   "metadata": {
    "id": "NLvJdsjUQ9LA"
   },
   "outputs": [],
   "source": [
    "policy = Oracle()\n",
    "\n",
    "timestep = env.reset()\n",
    "while not timestep.last():\n",
    "    action = policy(timestep)\n",
    "    timestep = env.step(action)"
   ]
  },
  {
   "cell_type": "code",
   "execution_count": null,
   "metadata": {
    "id": "Vl8ujKAPSQZL"
   },
   "outputs": [],
   "source": [
    "play_video(env.latest_filename)"
   ]
  },
  {
   "cell_type": "markdown",
   "metadata": {
    "id": "1UiFM1TxUOVS"
   },
   "source": [
    "# Piano with Shadow Hands"
   ]
  },
  {
   "cell_type": "code",
   "execution_count": null,
   "metadata": {
    "id": "5CL-WIUqUL04"
   },
   "outputs": [],
   "source": [
    "task = piano_with_shadow_hands.PianoWithShadowHands(\n",
    "    change_color_on_activation=True,\n",
    "    midi=music.load(\"TwinkleTwinkleRousseau\"),\n",
    "    trim_silence=True,\n",
    "    control_timestep=0.05,\n",
    "    gravity_compensation=True,\n",
    "    primitive_fingertip_collisions=False,\n",
    "    reduced_action_space=False,\n",
    "    n_steps_lookahead=10,\n",
    "    disable_fingering_reward=False,\n",
    "    disable_forearm_reward=False,\n",
    "    disable_colorization=False,\n",
    "    disable_hand_collisions=False,\n",
    "    attachment_yaw=0.0,\n",
    ")\n",
    "\n",
    "env = composer_utils.Environment(\n",
    "    task=task, strip_singleton_obs_buffer_dim=True, recompile_physics=False\n",
    ")\n",
    "\n",
    "env = PianoSoundVideoWrapper(\n",
    "    env,\n",
    "    record_every=1,\n",
    "    camera_id=\"piano/back\",\n",
    "    record_dir=\".\",\n",
    ")\n",
    "\n",
    "env = CanonicalSpecWrapper(env)"
   ]
  },
  {
   "cell_type": "code",
   "execution_count": null,
   "metadata": {
    "id": "RhwyqkIhUbOC"
   },
   "outputs": [],
   "source": [
    "action_spec = env.action_spec()\n",
    "print(f\"Action dimension: {action_spec.shape}\")"
   ]
  },
  {
   "cell_type": "code",
   "execution_count": null,
   "metadata": {
    "id": "QzcTcVaAUdcZ"
   },
   "outputs": [],
   "source": [
    "timestep = env.reset()\n",
    "dim = 0\n",
    "for k, v in timestep.observation.items():\n",
    "    print(f\"\\t{k}: {v.shape} {v.dtype}\")\n",
    "    dim += int(np.prod(v.shape))\n",
    "print(f\"Observation dimension: {dim}\")"
   ]
  },
  {
   "cell_type": "code",
   "execution_count": null,
   "metadata": {
    "id": "YtAv-gajUeNc"
   },
   "outputs": [],
   "source": [
    "# Download pretrained policy action sequence.\n",
    "%shell wget https://github.com/google-research/robopianist/raw/main/examples/twinkle_twinkle_actions.npy > /dev/null 2>&1\n",
    "\n",
    "\n",
    "class Policy:\n",
    "    def __init__(self) -> None:\n",
    "        self.reset()\n",
    "\n",
    "    def reset(self) -> None:\n",
    "        self._idx = 0\n",
    "        self._actions = np.load(\"twinkle_twinkle_actions.npy\")\n",
    "\n",
    "    def __call__(self, timestep: dm_env.TimeStep) -> np.ndarray:\n",
    "        del timestep  # Unused.\n",
    "        actions = self._actions[self._idx]\n",
    "        self._idx += 1\n",
    "        return actions"
   ]
  },
  {
   "cell_type": "code",
   "execution_count": null,
   "metadata": {
    "id": "GbOaZ9UoVOrh"
   },
   "outputs": [],
   "source": [
    "policy = Policy()\n",
    "\n",
    "timestep = env.reset()\n",
    "while not timestep.last():\n",
    "    action = policy(timestep)\n",
    "    timestep = env.step(action)"
   ]
  },
  {
   "cell_type": "code",
   "execution_count": null,
   "metadata": {
    "id": "8TfPjxCqVWZ4"
   },
   "outputs": [],
   "source": [
    "play_video(env.latest_filename)"
   ]
  }
 ],
 "metadata": {
  "accelerator": "GPU",
  "colab": {
   "collapsed_sections": [
    "ai0FRnxDM8HP"
   ],
   "provenance": []
  },
  "gpuClass": "standard",
  "kernelspec": {
   "display_name": "pianist",
   "language": "python",
   "name": "python3"
  },
  "language_info": {
   "codemirror_mode": {
    "name": "ipython",
    "version": 3
   },
   "file_extension": ".py",
   "mimetype": "text/x-python",
   "name": "python",
   "nbconvert_exporter": "python",
   "pygments_lexer": "ipython3",
   "version": "3.10.16"
  }
 },
 "nbformat": 4,
 "nbformat_minor": 0
}
